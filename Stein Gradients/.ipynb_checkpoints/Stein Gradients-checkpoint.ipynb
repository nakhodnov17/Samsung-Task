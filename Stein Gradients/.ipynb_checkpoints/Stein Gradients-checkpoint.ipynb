{
 "cells": [
  {
   "cell_type": "code",
   "execution_count": 1,
   "metadata": {},
   "outputs": [
    {
     "name": "stderr",
     "output_type": "stream",
     "text": [
      "/usr/lib/python3.5/importlib/_bootstrap.py:222: RuntimeWarning: numpy.dtype size changed, may indicate binary incompatibility. Expected 96, got 88\n",
      "  return f(*args, **kwds)\n",
      "/usr/lib/python3.5/importlib/_bootstrap.py:222: RuntimeWarning: numpy.dtype size changed, may indicate binary incompatibility. Expected 96, got 88\n",
      "  return f(*args, **kwds)\n",
      "/usr/lib/python3.5/importlib/_bootstrap.py:222: RuntimeWarning: numpy.dtype size changed, may indicate binary incompatibility. Expected 96, got 88\n",
      "  return f(*args, **kwds)\n",
      "/usr/lib/python3.5/importlib/_bootstrap.py:222: RuntimeWarning: numpy.dtype size changed, may indicate binary incompatibility. Expected 96, got 88\n",
      "  return f(*args, **kwds)\n"
     ]
    }
   ],
   "source": [
    "import os\n",
    "import sys\n",
    "import math\n",
    "import gc\n",
    "\n",
    "from copy import deepcopy\n",
    "\n",
    "import numpy as np\n",
    "import pandas as pd\n",
    "\n",
    "import seaborn as sns\n",
    "\n",
    "from scipy.spatial.distance import pdist, squareform\n",
    "\n",
    "%matplotlib inline\n",
    "import matplotlib.pyplot as plt\n",
    "import matplotlib.mlab as mlab\n",
    "\n",
    "import torch\n",
    "import torch.nn as nn \n",
    "from torch.autograd import Variable\n",
    "from torch.utils.data import Dataset, DataLoader\n",
    "\n",
    "from torchvision import transforms\n",
    "from torchvision.datasets import MNIST\n",
    "\n",
    "# Ignore warnings\n",
    "import warnings\n",
    "warnings.filterwarnings(\"ignore\")\n",
    "\n",
    "use_cuda = False\n",
    "device = None\n",
    "os.environ[\"CUDA_VISIBLE_DEVICES\"]=\"5\"\n",
    "if torch.cuda.is_available():\n",
    "    device = torch.device(\"cuda:0\")\n",
    "    use_cuda = True\n",
    "\n",
    "# Ignore cuda\n",
    "use_cuda = False\n",
    "device = None\n",
    "\n",
    "# Set DoubleTensor as a base type for computations\n",
    "t_type = torch.float64"
   ]
  },
  {
   "cell_type": "code",
   "execution_count": 2,
   "metadata": {},
   "outputs": [],
   "source": [
    "%load_ext line_profiler"
   ]
  },
  {
   "cell_type": "code",
   "execution_count": 3,
   "metadata": {},
   "outputs": [],
   "source": [
    "def pairwise_diffs(x, y):    \n",
    "    '''\n",
    "    Input: x is a Nxd matrix\n",
    "           y is an optional Mxd matirx\n",
    "    Output: diffs is a NxM matrix where diffs[i,j] is the subtraaction between x[i,:] and y[j,:]\n",
    "    i.e. diffs[i,j] = x[i,:]-y[j,:]\n",
    "    '''\n",
    "    return x[:,np.newaxis,:] - y[np.newaxis,:,:]"
   ]
  },
  {
   "cell_type": "code",
   "execution_count": 4,
   "metadata": {},
   "outputs": [],
   "source": [
    "def pairwise_dists(x=None, y=None, diffs=None):\n",
    "    '''\n",
    "    Input: pairwise diffs is a MxN matrix where diffs[i,j] = x[i,:] - y[j, :]\n",
    "    Output: dist is a NxM matrix where dist[i,j] is the square norm between x[i,:] and y[j,:]\n",
    "    i.e. dist[i,j] = ||x[i,:]-y[j,:]||^2\n",
    "    '''\n",
    "    return torch.norm(diffs, dim=2)"
   ]
  },
  {
   "cell_type": "code",
   "execution_count": 5,
   "metadata": {},
   "outputs": [],
   "source": [
    "class normal_density():\n",
    "    def __init__(self, n=None, mu=None, std=None):\n",
    "        self.n = torch.tensor(n, dtype=t_type, device=device)\n",
    "        self.mu = torch.tensor(mu, dtype=t_type, device=device)\n",
    "        self.std = torch.tensor(std, dtype=t_type, device=device)\n",
    "        \n",
    "        self.one = torch.tensor(1., dtype=t_type, device=device)\n",
    "        self.two = torch.tensor(2., dtype=t_type, device=device)\n",
    "        self.pi = torch.tensor(math.pi, dtype=t_type, device=device)\n",
    "        \n",
    "        if not n:\n",
    "            self.n = torch.tensor(1., dtype=t_type, device=device)\n",
    "        if not mu:\n",
    "            self.mu = torch.tensor(0., dtype=t_type, device=device)\n",
    "        if not std:\n",
    "            self.std = torch.tensor(1., dtype=t_type, device=device)\n",
    "\n",
    "    def __call__(self, x):\n",
    "        return (torch.pow(self.two * self.pi, -self.n / self.two) * \n",
    "                torch.pow(self.std, -self.n) * \n",
    "                torch.exp(-self.one / (self.two * self.std * self.std) * torch.sum(torch.pow(x - self.mu, self.two))))\n",
    "    \n",
    "    def unnormed_density(self, x):\n",
    "        return torch.exp(-self.one / (self.two * self.std * self.std) * torch.sum(torch.pow(x - self.mu, self.two)))"
   ]
  },
  {
   "cell_type": "code",
   "execution_count": 6,
   "metadata": {},
   "outputs": [],
   "source": [
    "class SteinLinear(nn.Module):\n",
    "    def __init__(self, in_features, out_features, n_particles=1, bias=True):\n",
    "        super(SteinLinear, self).__init__()\n",
    "        \n",
    "        self.in_features = in_features\n",
    "        self.out_features = out_features\n",
    "        self.n_particles = n_particles\n",
    "        \n",
    "        self.weight = torch.nn.Parameter(torch.zeros([n_particles, in_features, out_features], dtype=t_type))\n",
    "        \n",
    "        if bias:\n",
    "            self.bias = torch.nn.Parameter(torch.zeros([n_particles, 1, out_features], dtype=t_type))\n",
    "        else:\n",
    "            self.register_parameter('bias', None)\n",
    "            \n",
    "        self.reset_parameters()\n",
    "\n",
    "    def reset_parameters(self):\n",
    "        stdv = 1. / math.sqrt(self.weight.size(2))\n",
    "        self.weight.data.uniform_(-stdv, stdv)\n",
    "        if self.bias is not None:\n",
    "            self.bias.data.uniform_(-stdv, stdv)\n",
    "            \n",
    "    def forward(self, X):\n",
    "        return torch.matmul(X, self.weight) + self.bias"
   ]
  },
  {
   "cell_type": "code",
   "execution_count": 7,
   "metadata": {},
   "outputs": [],
   "source": [
    "arc = nn.Sequential(\n",
    "    SteinLinear(10, 5, 10),\n",
    "    nn.LeakyReLU(),\n",
    "    SteinLinear(5, 4, 10),\n",
    "    nn.LeakyReLU(),\n",
    "    SteinLinear(4, 1, 10)\n",
    ")"
   ]
  },
  {
   "cell_type": "code",
   "execution_count": 8,
   "metadata": {},
   "outputs": [],
   "source": [
    "class SteinNet():\n",
    "    def __init__(self, arc, train_size):\n",
    "        '''\n",
    "        p(y|x,w) = N(y|f(x,w), alpha^-1)\n",
    "        p0(w) = N(w|0, betta^-1)\n",
    "        \n",
    "        k(w, w`) = exp^(-1/h * ||w - w`||^2)\n",
    "        '''\n",
    "        \n",
    "        ### f(x, w)\n",
    "        self.arc = arc\n",
    "        if use_cuda:\n",
    "            self.arc = self.arc.cuda()\n",
    "            \n",
    "        ### n_particles\n",
    "        self.n_particles = arc[0].n_particles\n",
    "        \n",
    "        self.train_size = train_size\n",
    "        \n",
    "        ### variances from probabilistic model\n",
    "        self.alpha = torch.tensor(1., dtype=t_type)\n",
    "        self.betta = torch.tensor(1., dtype=t_type)\n",
    "        if use_cuda:\n",
    "            self.alpha = self.alpha.cuda()\n",
    "            self.betta = self.betta.cuda()\n",
    "            \n",
    "        ### factor from kernel\n",
    "        self.h = torch.tensor(1., dtype=t_type)\n",
    "        if use_cuda:\n",
    "            self.h = self.h.cuda()\n",
    "    \n",
    "    ### SUM for all j {log p(Dj|w)}\n",
    "    ### return tensor [n_particles]\n",
    "    def calc_data_term(self, X, y):\n",
    "        two = torch.tensor(2., dtype=t_type)\n",
    "        if use_cuda:\n",
    "            two = two.cuda()\n",
    "        \n",
    "        X = X.view(1, *X.shape).expand(self.n_particles, *X.shape)\n",
    "        y_p = self.arc(X).view(self.n_particles, X.shape[1])\n",
    "        \n",
    "        return -(torch.pow(self.alpha, two) / two) * torch.mean(torch.pow(y - y_p, two), dim=1) * self.train_size\n",
    "    \n",
    "    ### log p0(w)\n",
    "    ### return tensor [n_particles] \n",
    "    def calc_prior_term(self):\n",
    "        result = torch.zeros([self.n_particles])\n",
    "        two = torch.tensor(2., dtype=t_type)\n",
    "        if use_cuda:\n",
    "            result = result.cuda()\n",
    "            two = two.cuda()\n",
    "            \n",
    "        for name, param in self.arc.named_parameters():\n",
    "            log_p0 = -(torch.pow(self.betta, two) / two) * torch.pow(param, two)\n",
    "            result += torch.sum(log_p0.view(param.shape[0], -1), dim=1)\n",
    "        return result\n",
    "    \n",
    "    ### k(w, w)\n",
    "    ### return tensor [n_particles, n_particles]\n",
    "    def calc_kernel_term(self):\n",
    "        one = torch.tensor(1., dtype=t_type)\n",
    "        distances = torch.zeros([self.n_particles, self.n_particles])\n",
    "        if use_cuda:\n",
    "            one = one.cuda()\n",
    "            distances = distances.cuda()\n",
    "        \n",
    "        for name, param in self.arc.named_parameters():\n",
    "            distances += pairwise_distances(param.view(self.n_particles, -1), param.view(self.n_particles, -1))\n",
    "            \n",
    "        return torch.exp(-one / self.h * distances)\n",
    "    \n",
    "    def update(self, X, y):\n",
    "        two = torch.tensor(2., dtype=t_type)\n",
    "        if use_cuda:\n",
    "            two = two.cuda()\n",
    "            \n",
    "        prior = self.calc_prior_term\n",
    "        data = self.calc_data_term\n",
    "        kernel = self.calc_kernel_term\n",
    "        \n",
    "        log_term = prior + data\n",
    "        log_term.backward()\n",
    "        \n",
    "        for name, param in self.arc.named_parameters():\n",
    "            update_term = torch.zeros_like(param)\n",
    "            \n",
    "            #update_term += - two / self.h * kernel[]"
   ]
  },
  {
   "cell_type": "code",
   "execution_count": 9,
   "metadata": {},
   "outputs": [],
   "source": [
    "# #X = torch.Tensor([[1, 2, 3], [2, 2, 2], [4, 3, 2]]).cuda()\n",
    "# X = torch.rand([20, 10]).cuda()\n",
    "# # y = torch.Tensor([1, 1, 1]).cuda()\n",
    "# y = torch.rand([20]).cuda()"
   ]
  },
  {
   "cell_type": "code",
   "execution_count": 10,
   "metadata": {},
   "outputs": [],
   "source": [
    "# s = SteinNet(arc, 1000)"
   ]
  },
  {
   "cell_type": "code",
   "execution_count": 11,
   "metadata": {},
   "outputs": [],
   "source": [
    "# s.calc_prior_term()"
   ]
  },
  {
   "cell_type": "code",
   "execution_count": 12,
   "metadata": {},
   "outputs": [],
   "source": [
    "# s.calc_data_term(X, y)"
   ]
  },
  {
   "cell_type": "code",
   "execution_count": 13,
   "metadata": {},
   "outputs": [],
   "source": [
    "# s.calc_kernel_term()"
   ]
  },
  {
   "cell_type": "code",
   "execution_count": 14,
   "metadata": {},
   "outputs": [],
   "source": [
    "class LinearTransform():\n",
    "    def __init__(self, n_dims, n_hidden_dims, use_identity=False):\n",
    "        self.n_dims = n_dims\n",
    "        self.n_hidden_dims = n_hidden_dims\n",
    "        self.use_identity = use_identity\n",
    "        \n",
    "        self.A = torch.zeros([self.n_dims, self.n_hidden_dims], dtype=t_type, device=device)\n",
    "        self.tetta_0 = torch.zeros([self.n_dims, 1], dtype=t_type, device=device)\n",
    "        if not self.use_identity: \n",
    "            self.A.uniform_(-1., 1.)\n",
    "            self.tetta_0.uniform_(-1.,1.)\n",
    "#             self.A.bernoulli_(0.1)\n",
    "#             self.tetta_0.bernoulli_(0.1)\n",
    "        else:\n",
    "            if self.n_dims != self.n_hidden_dims:\n",
    "                raise RuntimeError(\"Cannot use identity transformation in spaces with differrent dimensions\")\n",
    "            self.A = torch.eye(self.n_dims)\n",
    "        ### normalize columns of matrix A\n",
    "        self.A /= self.A.norm(dim=0)\n",
    "        \n",
    "        ### A^(t)A\n",
    "        self.AtA = torch.matmul(self.A.t(), self.A)\n",
    "        ### (A^(t)A)^(-1)\n",
    "        self.AtA_1 = torch.inverse(self.AtA)\n",
    "        ### (A^(t)A)^(-1)A^(t)\n",
    "        self.inverse_base = torch.matmul(self.AtA_1, self.A.t())\n",
    "        ### A(A^(t)A)^(-1)A^(t)\n",
    "        self.projector_base = torch.matmul(self.A, self.inverse_base)\n",
    "        \n",
    "        ### factor \n",
    "    '''\n",
    "        tetta - Tensor\n",
    "        is t is True tetta will be transposed \n",
    "    '''\n",
    "        \n",
    "    ### transform tettas as follows: tetta = Atetta` + tetta_0\n",
    "    def transform(self, tetta, t=False):\n",
    "        if self.use_identity:\n",
    "            return tetta\n",
    "        if t:\n",
    "            return (torch.matmul(self.A, tetta.t()) + self.tetta_0).t()\n",
    "        return torch.matmul(self.A, tetta) + self.tetta_0\n",
    "    \n",
    "    ### apply inverse transformation\n",
    "    def inverse_transform(self, tetta, t=False):\n",
    "        ### tetta` = (A^(t)A)^(-1)A^(t)(tetta - tetta_0)\n",
    "        if self.use_identity:\n",
    "            return tetta\n",
    "        if t:\n",
    "            return torch.matmul(self.inverse_base, tetta.t() - self.tetta_0).t()\n",
    "        return torch.matmul(self.inverse_base, tetta - self.tetta_0)\n",
    "        \n",
    "    ### project tettas onto Linear Space X = {Atetta` + tetta_0 for all tetta` in R^d} \n",
    "    def project(self, tetta, t=False):\n",
    "        if self.use_identity:\n",
    "            return tetta\n",
    "        ### tetta_projected = A(A^(t)A)^(-1)A^(t)(tetta - tetta_0) + tetta_0\n",
    "        if t:\n",
    "            return (torch.matmul(self.projector_base, tetta.t() - self.tetta_0) + self.tetta_0).t()\n",
    "        return torch.matmul(self.projector_base, tetta - self.tetta_0) + self.tetta_0\n",
    "    \n",
    "    ### project and then apply inverse transform to tetta - tetta_0\n",
    "    def project_inverse(self, tetta, t=False):\n",
    "        if self.use_identity:\n",
    "            return tetta\n",
    "        ### tetta_s_p_i = T^(-1)P(tetta - tetta_0)= (A^(t)A)^(-1)A^(t)tetta\n",
    "        ### use solver trick: tetta_s_p_i : A^(t)Atetta_s_p_i = A^(t)tetta\n",
    "        if t:\n",
    "            return torch.gesv(torch.matmul(self.A.t(), tetta.t()), self.AtA)[0].t()\n",
    "        return torch.gesv(torch.matmul(self.A.t(), tetta), self.AtA)[0]"
   ]
  },
  {
   "cell_type": "code",
   "execution_count": 15,
   "metadata": {},
   "outputs": [],
   "source": [
    "class DistributionMover():\n",
    "    def __init__(self, particles=None, n_particles=None, n_dims=None, n_hidden_dims=None, use_latent=False, target_density=None):\n",
    "        if not particles and not n_particles:\n",
    "            raise RuntimeError\n",
    "        \n",
    "        self.particles = particles\n",
    "        self.n_particles = n_particles\n",
    "        \n",
    "        self.N = None\n",
    "        \n",
    "        self.n_dims = n_dims\n",
    "        self.n_hidden_dims = n_hidden_dims\n",
    "\n",
    "        self.use_latent = use_latent\n",
    "        \n",
    "        self.target_density=target_density\n",
    "        self.real_target_density=None\n",
    "        \n",
    "        if not self.use_latent:\n",
    "            self.n_hidden_dims = self.n_dims\n",
    "        \n",
    "        ### Learnable samples from the target distribution \n",
    "        if particles:\n",
    "            self.n_particles = particles.shape[0]\n",
    "        else:\n",
    "            self.particles = torch.zeros([n_particles, self.n_hidden_dims], dtype=t_type,\n",
    "                                         requires_grad=False, device=device).uniform_(-20, -10)\n",
    "        self.N = torch.tensor(self.n_particles, dtype=t_type, device=device)\n",
    "        \n",
    "        ### Class for performing linear transformations\n",
    "        self.lt = None\n",
    "        if self.use_latent:\n",
    "            self.lt = LinearTransform(n_dims=self.n_dims, n_hidden_dims=self.n_hidden_dims, use_identity=False)\n",
    "        else:\n",
    "            self.lt = LinearTransform(n_dims=self.n_dims, n_hidden_dims=self.n_hidden_dims, use_identity=True)\n",
    "\n",
    "        ### Function of probability density of target distribution\n",
    "        if target_density:\n",
    "            self.target_density = target_density\n",
    "        else:    \n",
    "            # use unnormed probability density to speedup computations\n",
    "#             self.target_density = lambda x : (0.3 * normal_density(self.n_dims, -2., 2.).unnormed_density(x) + \n",
    "#                                               0.7 * normal_density(self.n_dims, 2., 2.).unnormed_density(x))\n",
    "            \n",
    "#             self.real_target_density = lambda x : (0.3 * normal_density(self.n_dims, -2., 1.)(x) + \n",
    "#                                                    0.7 * normal_density(self.n_dims, 2., 1.)(x))\n",
    "\n",
    "            self.target_density = lambda x : (normal_density(self.n_dims, 0., 2.).unnormed_density(x))\n",
    "            \n",
    "            self.real_target_density = lambda x : (normal_density(self.n_dims, 0., 2.)(x))\n",
    "        \n",
    "        ### Number of iterations since begining\n",
    "        self.iter = 0\n",
    "        \n",
    "        ### Adagrad parameters\n",
    "        self.fudge_factor = torch.tensor(1e-6, dtype=t_type, device=device)\n",
    "        self.step_size = torch.tensor(1e-2, dtype=t_type, device=device)\n",
    "        self.auto_corr = torch.tensor(0.9, dtype=t_type, device=device)\n",
    "        \n",
    "        ### Gradient history term for adagrad optimization \n",
    "        self.historical_grad = None\n",
    "        if self.use_latent:\n",
    "            self.historical_grad = torch.zeros([n_particles, self.n_hidden_dims], dtype=t_type, device=device)\n",
    "        else:\n",
    "            self.historical_grad = torch.zeros([n_particles, self.n_dims], dtype=t_type, device=device)\n",
    "        \n",
    "        ### Factor from kernel\n",
    "        self.med = torch.tensor(0., dtype=t_type, device=device)\n",
    "        self.h = torch.tensor(0., dtype=t_type, device=device)\n",
    "          \n",
    "        ### Support tensors for computations \n",
    "        self.one = torch.tensor(1., dtype=t_type, device=device)\n",
    "        self.two = torch.tensor(2., dtype=t_type, device=device)\n",
    "    \n",
    "    ### k(w, w)\n",
    "    ### return tuple of tensors ([n_particles, n_particles], [n_particles, n_dims])\n",
    "    def calc_kernel_term(self, h_type):\n",
    "        ### diffs[i, j] = tetta_i - tetta_j\n",
    "        diffs = pairwise_diffs(self.particles, self.particles)\n",
    "        ### dists[i, j] = ||tetta_i - tetta_j||\n",
    "        dists = pairwise_dists(diffs=diffs)\n",
    "        ### sq_dists[i, j] = ||tetta_i - tetta_j||^2\n",
    "        sq_dists = torch.pow(dists, self.two)\n",
    "    \n",
    "        ### RBF Kernel\n",
    "        if h_type == 0:\n",
    "            self.med = torch.median(sq_dists) + self.fudge_factor\n",
    "            self.h = self.med / torch.log(self.N + 1)  \n",
    "        elif h_type == 1:\n",
    "            self.med = torch.median(sq_dists) + self.fudge_factor\n",
    "            self.h = self.med / torch.log(self.N + 1) * (self.n_dims) \n",
    "        elif h_type == 2:\n",
    "            self.med = torch.median(sq_dists) + self.fudge_factor\n",
    "            self.h = self.med / torch.log(self.N + 1) * (2. * self.n_dims)\n",
    "        elif h_type == 3:\n",
    "            self.var  = torch.var(self.particles) + self.fudge_factor\n",
    "            self.h =  self.var / torch.log(self.N + 1.) * (2. * self.n_dims)\n",
    "        elif h_type == 4:\n",
    "            self.var = torch.var(diffs) + self.fudge_factor\n",
    "            self.h = self.var / torch.log(self.N + 1) * (self.n_dims)\n",
    "        elif type(h_type) == float:\n",
    "            self.h = h_type\n",
    "        \n",
    "        kernel = torch.exp(-self.one / self.h * sq_dists)\n",
    "        \n",
    "        grad_kernel = -self.two / self.h * kernel.unsqueeze(dim=2) * diffs\n",
    "\n",
    "        return kernel, grad_kernel\n",
    "    \n",
    "    # k`(w`, w`)\n",
    "    ### return tuple of tensors ([n_particles, n_particles], [n_particles, n_dims])\n",
    "    def calc_kernel_term_latent(self, h_type):\n",
    "        ### tetta = A tetta` + tetta_0\n",
    "        real_particles = self.lt.transform(self.particles, t=True)\n",
    "        ### diffs[i, j] = A(tetta`_i - tetta`_j)\n",
    "        diffs = pairwise_diffs(real_particles, real_particles)\n",
    "        ### dists[i, j] = ||A(tetta`_i - tetta`_j)||\n",
    "        dists = pairwise_dists(diffs=diffs)\n",
    "        ### sq_dists[i, j] = ||A(tetta`_i - tetta`_j)||^2\n",
    "        sq_dists = torch.pow(dists, self.two)\n",
    "    \n",
    "        ### RBF Kernel\n",
    "        if h_type == 0:\n",
    "            self.med = torch.median(sq_dists) + self.fudge_factor\n",
    "            self.h = self.med / torch.log(self.N + 1)  \n",
    "        elif h_type == 1:\n",
    "            self.med = torch.median(sq_dists) + self.fudge_factor\n",
    "            self.h = self.med / torch.log(self.N + 1) * (self.n_dims) \n",
    "        elif h_type == 2:\n",
    "            self.med = torch.median(sq_dists) + self.fudge_factor\n",
    "            self.h = self.med / torch.log(self.N + 1) * (2. * self.n_dims)\n",
    "        elif h_type == 3:\n",
    "            self.var  = torch.var(self.particles) + self.fudge_factor\n",
    "            self.h =  self.var / torch.log(self.N + 1.) * (2. * self.n_dims)\n",
    "        elif h_type == 4:\n",
    "            self.var = torch.var(diffs) + self.fudge_factor\n",
    "            self.h = self.var / torch.log(self.N + 1) * (self.n_dims)\n",
    "        elif type(h_type) == float:\n",
    "            self.h = h_type\n",
    "        \n",
    "        ### kernel[i, j] = exp(-1/h * ||A(tetta`_i - tetta`_j)||^2)\n",
    "        kernel = torch.exp(-self.one / self.h * sq_dists)\n",
    "        ### grad_kernel[i, j] = -2/h * A(tetta`_i - tetta`_j) * kernel[i, j]\n",
    "        grad_kernel = -self.two / self.h * diffs * kernel.unsqueeze(2)\n",
    "\n",
    "        return kernel, grad_kernel\n",
    "    \n",
    "    def calc_log_term(self):\n",
    "        grad_log_term = torch.zeros([self.n_particles, self.n_dims], dtype=t_type, device=device)\n",
    "    \n",
    "        for idx in range(self.n_particles):\n",
    "            ### tetta_i\n",
    "            particle = torch.tensor(self.particles[idx], dtype=t_type, requires_grad=True, device=device)\n",
    "            ### log_term_i = log p(tetta_i)\n",
    "            log_term = torch.log(self.target_density(particle))\n",
    "            ### grad_log_term_i = dlog_term_i / dtetta_i\n",
    "            grad_log_term[idx] = torch.autograd.grad(log_term, particle,\n",
    "                                                         only_inputs=True, retain_graph=False, \n",
    "                                                         create_graph=False, allow_unused=False)[0]\n",
    "                \n",
    "        return grad_log_term\n",
    "    \n",
    "    def calc_log_term_latent(self):\n",
    "        grad_log_term = torch.zeros([self.n_particles, self.n_dims], dtype=t_type, device=device)\n",
    "    \n",
    "        for idx in range(self.n_particles):\n",
    "            ### tetta`_i\n",
    "            particle = torch.tensor(self.particles[idx:idx+1], dtype=t_type, requires_grad=True, device=device)\n",
    "            ### tetta_i = A tetta`_i + tetta_0\n",
    "            real_particle = self.lt.transform(particle, t=True)\n",
    "            ### log_term_i = log p(tetta_i)\n",
    "            log_term = torch.log(self.target_density(real_particle))\n",
    "            ### grad_log_term_i = dlog_term_i / dtetta_i\n",
    "            grad_log_term[idx] = torch.autograd.grad(log_term, real_particle,\n",
    "                                                         only_inputs=True, retain_graph=False, \n",
    "                                                         create_graph=False, allow_unused=False)[0]\n",
    "                \n",
    "        return grad_log_term\n",
    "        \n",
    "    def update(self, h_type):\n",
    "        self.iter += 1\n",
    "        \n",
    "        ### Compute additional terms\n",
    "        kernel, grad_kernel = self.calc_kernel_term(h_type)\n",
    "        grad_log_term = self.calc_log_term()\n",
    "        \n",
    "        ### Compute value of step in functiuonal space\n",
    "        phi = (torch.matmul(kernel.t(), grad_log_term) + torch.sum(grad_kernel, dim=0)) / self.N\n",
    "                            \n",
    "        ### Update gradient history\n",
    "        if self.iter == 1:\n",
    "            self.historical_grad = self.historical_grad + phi * phi\n",
    "        else:\n",
    "            self.historical_grad = self.auto_corr * self.historical_grad + (self.one - self.auto_corr) * phi * phi\n",
    "            \n",
    "        ### Adjust gradient and make step\n",
    "        adj_phi = phi / (self.fudge_factor + torch.sqrt(self.historical_grad))\n",
    "        self.particles = self.particles + self.step_size * adj_phi\n",
    "    \n",
    "    def update_latent(self, h_type):\n",
    "        self.iter += 1\n",
    "        \n",
    "        ### Compute additional terms\n",
    "        kernel, grad_kernel = self.calc_kernel_term_latent(h_type)\n",
    "        grad_log_term = self.calc_log_term_latent()\n",
    "        \n",
    "        ### Compute value of step in functiuonal space\n",
    "        phi = (torch.matmul(kernel.t(), grad_log_term) + torch.sum(grad_kernel, dim=0)) / self.N\n",
    "        \n",
    "        ### Transform phi from R^D space to R^d space: phi` = (A^(t)A)^(-1)A^(t)phi\n",
    "        phi = self.lt.project_inverse(phi, t=True)\n",
    "        \n",
    "        ### Update gradient history\n",
    "        if self.iter == 1:\n",
    "            self.historical_grad = self.historical_grad + phi * phi\n",
    "        else:\n",
    "            self.historical_grad = self.auto_corr * self.historical_grad + (self.one - self.auto_corr) * phi * phi\n",
    "            \n",
    "        ### Adjust gradient and make step\n",
    "        adj_phi = phi / (self.fudge_factor + torch.sqrt(self.historical_grad))\n",
    "        self.particles = self.particles + self.step_size * adj_phi\n",
    "        "
   ]
  },
  {
   "cell_type": "code",
   "execution_count": 16,
   "metadata": {},
   "outputs": [],
   "source": [
    "dm = DistributionMover(n_particles=100, n_dims=2, n_hidden_dims=2, use_latent=False)\n",
    "\n",
    "marginal_density = lambda x : (normal_density(mu=0, std=2, n=1)(x))\n",
    "#marginal_density = lambda x : (0.3 * normal_density(mu=-2, std=1, n=1)(x) + 0.7 * normal_density(mu=2, std=1, n=1)(x))\n",
    "\n",
    "pdf = []\n",
    "for _ in np.linspace(-10, 10, 1000): \n",
    "    _ = torch.tensor(_, dtype=t_type, device=device)\n",
    "    pdf.append(marginal_density(_))\n",
    "    \n",
    "from pynverse import inversefunc\n",
    "from scipy.interpolate import interp1d\n",
    "from scipy.integrate import quad\n",
    "cum_density = interp1d(np.linspace(-20, 20, 5000), [quad(marginal_density, -20, x)[0] for x in np.linspace(-20, 20, 5000)])\n",
    "inv_cum_density = inversefunc(cum_density)\n",
    "real_samples = [inv_cum_density(np.random.random()) for x in range(1000)]"
   ]
  },
  {
   "cell_type": "code",
   "execution_count": 17,
   "metadata": {},
   "outputs": [],
   "source": [
    "mean = quad(lambda x : marginal_density(x) * x, -20, 20)[0]\n",
    "var = quad(lambda x : marginal_density(x) * (x - mean) ** 2, -20, 20)[0]"
   ]
  },
  {
   "cell_type": "code",
   "execution_count": 18,
   "metadata": {},
   "outputs": [
    {
     "data": {
      "text/plain": [
       "(0.0, 4.0)"
      ]
     },
     "execution_count": 18,
     "metadata": {},
     "output_type": "execute_result"
    }
   ],
   "source": [
    "mean, var"
   ]
  },
  {
   "cell_type": "code",
   "execution_count": 19,
   "metadata": {},
   "outputs": [
    {
     "data": {
      "text/plain": [
       "<matplotlib.axes._subplots.AxesSubplot at 0x7f7c0af6fb38>"
      ]
     },
     "execution_count": 19,
     "metadata": {},
     "output_type": "execute_result"
    },
    {
     "data": {
      "image/png": "[encoded data removed]",
      "text/plain": [
       "<Figure size 432x288 with 1 Axes>"
      ]
     },
     "metadata": {},
     "output_type": "display_data"
    }
   ],
   "source": [
    "plt.plot(np.linspace(-10, 10, 1000), pdf)\n",
    "plt.plot(real_samples, np.zeros_like(real_samples))\n",
    "sns.kdeplot(real_samples, kernel='tri', color='darkblue', linewidth=4)"
   ]
  },
  {
   "cell_type": "code",
   "execution_count": 20,
   "metadata": {},
   "outputs": [],
   "source": [
    "def plot_projections(dm=None, use_real=True, kernel='tri'):\n",
    "    N_plots = None\n",
    "    scale_factor = None\n",
    "    \n",
    "    if use_real:\n",
    "        if not dm.use_latent:\n",
    "            return\n",
    "        N_plots = dm.lt.A.shape[0]\n",
    "    else:\n",
    "        N_plots = dm.particles.shape[1]\n",
    "    if N_plots > 6:\n",
    "        scale_factor = 15\n",
    "    else:\n",
    "        scale_factor = 5\n",
    "        \n",
    "    #N_plots = min(N_plots, 6)\n",
    "        \n",
    "    plt.figure(figsize=(3 * scale_factor, (N_plots // 3 + 1) * scale_factor))\n",
    "    \n",
    "    for idx in range(N_plots):\n",
    "        slice_dim = idx\n",
    "        \n",
    "        plt.subplot(N_plots // 3 + 1, 3, idx + 1)\n",
    "        \n",
    "        particles = None\n",
    "        if use_real:\n",
    "            particles = dm.lt.transform(dm.particles, t=True)[:, slice_dim]\n",
    "        else:\n",
    "            particles = dm.particles[:, slice_dim]\n",
    "        \n",
    "        plt.plot(np.linspace(-10, 10, 1000, dtype=np.float64), pdf)\n",
    "        plt.plot(particles.data.cpu().numpy(), torch.zeros_like(particles).data.cpu().numpy(), 'ro')\n",
    "        sns.kdeplot(particles.data.cpu().numpy(), \n",
    "                    kernel=kernel, color='darkblue', linewidth=4)"
   ]
  },
  {
   "cell_type": "code",
   "execution_count": 21,
   "metadata": {},
   "outputs": [],
   "source": [
    "plot_projections(dm, use_real=True)"
   ]
  },
  {
   "cell_type": "code",
   "execution_count": 22,
   "metadata": {},
   "outputs": [
    {
     "data": {
      "image/png": "[encoded data removed]",
      "text/plain": [
       "<Figure size 1080x360 with 2 Axes>"
      ]
     },
     "metadata": {},
     "output_type": "display_data"
    }
   ],
   "source": [
    "plot_projections(dm, use_real=False)"
   ]
  },
  {
   "cell_type": "code",
   "execution_count": 30,
   "metadata": {},
   "outputs": [],
   "source": [
    "dm = DistributionMover(n_particles=100, n_dims=20, n_hidden_dims=20, use_latent=True)"
   ]
  },
  {
   "cell_type": "code",
   "execution_count": 31,
   "metadata": {},
   "outputs": [
    {
     "name": "stdout",
     "output_type": "stream",
     "text": [
      "Epoch 400...\n",
      "Kernel factor 1351.5043386696811CPU times: user 1min 17s, sys: 14.1 s, total: 1min 31s\n",
      "Wall time: 52.8 s\n"
     ]
    }
   ],
   "source": [
    "%%time\n",
    "\n",
    "from IPython.display import clear_output\n",
    "\n",
    "for _ in range(3000): \n",
    "    try:\n",
    "        dm.update_latent(h_type=1)\n",
    "        #dm.update(h_type=0)\n",
    "\n",
    "        if _ % 100 == 0:\n",
    "            clear_output()\n",
    "            sys.stdout.write('\\rEpoch {0}...\\nKernel factor {1}'.format(_, dm.h))\n",
    "\n",
    "            plot_projections(dm, use_real=True, kernel='tri')\n",
    "            plot_projections(dm, use_real=False, kernel='tri')\n",
    "\n",
    "            plt.pause(1e-300)\n",
    "\n",
    "    except KeyboardInterrupt:\n",
    "        clear_output()\n",
    "        sys.stdout.write('\\rEpoch {0}...\\nKernel factor {1}'.format(_, dm.h))\n",
    "\n",
    "        plot_projections(dm, use_real=True, kernel='tri')\n",
    "        plot_projections(dm, use_real=False, kernel='tri')\n",
    "\n",
    "        plt.pause(1e-300)\n",
    "        break"
   ]
  },
  {
   "cell_type": "code",
   "execution_count": 27,
   "metadata": {},
   "outputs": [
    {
     "data": {
      "text/plain": [
       "(tensor(-0.0010, dtype=torch.float64), tensor(3.7448, dtype=torch.float64))"
      ]
     },
     "execution_count": 27,
     "metadata": {},
     "output_type": "execute_result"
    }
   ],
   "source": [
    "(torch.mean(dm.lt.transform(dm.particles, t=True)),\n",
    " torch.mean(torch.std(dm.lt.transform(dm.particles, t=True), dim=0) ** 2))"
   ]
  },
  {
   "cell_type": "code",
   "execution_count": null,
   "metadata": {},
   "outputs": [],
   "source": []
  },
  {
   "cell_type": "code",
   "execution_count": null,
   "metadata": {},
   "outputs": [],
   "source": []
  },
  {
   "cell_type": "code",
   "execution_count": null,
   "metadata": {},
   "outputs": [],
   "source": []
  },
  {
   "cell_type": "code",
   "execution_count": 28,
   "metadata": {},
   "outputs": [],
   "source": [
    "# #real_particles = (dm.tetta_0 + torch.matmul(dm.particles, dm.A))\n",
    "# real_particles = dm.particles\n",
    "# sns.kdeplot(real_particles[:,(0,1)].data.cpu().numpy(), \n",
    "#             kernel='tri', color='darkblue', linewidth=4)"
   ]
  },
  {
   "cell_type": "code",
   "execution_count": 29,
   "metadata": {},
   "outputs": [],
   "source": [
    "# from mpl_toolkits.mplot3d import Axes3D\n",
    "# import matplotlib.pyplot as plt\n",
    "# from matplotlib import cm\n",
    "# from matplotlib.ticker import LinearLocator, FormatStrFormatter\n",
    "# import numpy as np\n",
    "\n",
    "\n",
    "# fig = plt.figure()\n",
    "# ax = fig.gca(projection='3d')\n",
    "\n",
    "# # Make data.\n",
    "# X = np.arange(-1, 3, 0.025)\n",
    "# Y = np.arange(-1, 3, 0.025)\n",
    "# X, Y = np.meshgrid(X, Y)\n",
    "# R = np.sqrt(X**2 + Y**2)\n",
    "# XY = torch.stack([torch.tensor(X, dtype=t_type), torch.tensor(Y, dtype=t_type)], dim=2)\n",
    "# Z = torch.zeros([XY.shape[0], XY.shape[1]])\n",
    "# for idx in range(XY.shape[0]):\n",
    "#     for jdx in range(XY.shape[1]):\n",
    "#         Z[idx, jdx] = (0.3 * normal_density(mu=0, std=1, n=2)(XY[idx, jdx]) + \n",
    "#                        0.7 * normal_density(mu=2, std=1, n=2)(XY[idx, jdx]))\n",
    "# Z = Z.cpu().data.numpy()\n",
    "# # Plot the surface.\n",
    "# surf = ax.plot_surface(X, Y, Z, cmap=cm.coolwarm,\n",
    "#                        linewidth=0, antialiased=False)\n",
    "\n",
    "# # Customize the z axis.\n",
    "# ax.set_zlim(-1.01, 1.01)\n",
    "# ax.zaxis.set_major_locator(LinearLocator(10))\n",
    "# ax.zaxis.set_major_formatter(FormatStrFormatter('%.02f'))\n",
    "\n",
    "# # Add a color bar which maps values to colors.\n",
    "# fig.colorbar(surf, shrink=0.5, aspect=5)\n",
    "\n",
    "# plt.show()"
   ]
  },
  {
   "cell_type": "code",
   "execution_count": 30,
   "metadata": {},
   "outputs": [],
   "source": [
    "import numpy as np\n",
    "from scipy.spatial.distance import pdist, squareform\n",
    "\n",
    "class SVGD():\n",
    "\n",
    "    def __init__(self):\n",
    "        self.n_iter = 0\n",
    "    \n",
    "    def svgd_kernel(self, theta, h = -1):\n",
    "        sq_dist = pdist(theta)\n",
    "        pairwise_dists = squareform(sq_dist)**2\n",
    "        if h < 0: # if h < 0, using median trick\n",
    "            h = np.median(pairwise_dists)  \n",
    "            h = h / np.log(theta.shape[0]+1)\n",
    "            \n",
    "        # compute the rbf kernel\n",
    "        Kxy = np.exp( -pairwise_dists / h)\n",
    "\n",
    "        dxkxy = -np.matmul(Kxy, theta)\n",
    "        sumkxy = np.sum(Kxy, axis=1)\n",
    "        for i in range(theta.shape[1]):\n",
    "            dxkxy[:, i] = dxkxy[:,i] + np.multiply(theta[:,i],sumkxy)\n",
    "        dxkxy = dxkxy * 2. / h\n",
    "        return (Kxy, dxkxy)\n",
    "    \n",
    " \n",
    "    def update(self, x0, lnprob, n_iter = 1000, stepsize = 1e-3, bandwidth = -1, alpha = 0.9, debug = False):\n",
    "        # Check input\n",
    "        if x0 is None or lnprob is None:\n",
    "            raise ValueError('x0 or lnprob cannot be None!')\n",
    "        \n",
    "        theta = np.copy(x0) \n",
    "        \n",
    "        # adagrad with momentum\n",
    "        fudge_factor = 1e-6\n",
    "        historical_grad = 0\n",
    "        for iter in range(n_iter):\n",
    "            self.n_iter += 1\n",
    "            \n",
    "            if debug and (iter+1) % 1000 == 0:\n",
    "                print( 'iter ' + str(iter+1) )\n",
    "            \n",
    "            lnpgrad = lnprob(theta)\n",
    "            # calculating the kernel matrix\n",
    "            kxy, dxkxy = self.svgd_kernel(theta, h = bandwidth)  \n",
    "            grad_theta = (np.matmul(kxy, lnpgrad) + dxkxy) / x0.shape[0]  \n",
    "            # adagrad \n",
    "            if iter == 1:\n",
    "                historical_grad = historical_grad + grad_theta ** 2\n",
    "            else:\n",
    "                historical_grad = alpha * historical_grad + (1 - alpha) * (grad_theta ** 2)             \n",
    "                \n",
    "            adj_grad = np.divide(grad_theta, fudge_factor+np.sqrt(historical_grad))\n",
    "            theta = theta + stepsize * adj_grad \n",
    "            \n",
    "        return theta"
   ]
  },
  {
   "cell_type": "code",
   "execution_count": 31,
   "metadata": {},
   "outputs": [],
   "source": [
    "# sys.path.insert(0, \"Stein-Variational-Gradient-Descent/python/\")\n",
    "# from svgd import SVGD"
   ]
  },
  {
   "cell_type": "code",
   "execution_count": 32,
   "metadata": {},
   "outputs": [],
   "source": [
    "dm_ex = DistributionMover(n_particles=100, n_dims=20, n_hidden_dims=2, use_latent=False)"
   ]
  },
  {
   "cell_type": "code",
   "execution_count": 33,
   "metadata": {},
   "outputs": [],
   "source": [
    "dm_svgd = SVGD()"
   ]
  },
  {
   "cell_type": "code",
   "execution_count": 34,
   "metadata": {},
   "outputs": [],
   "source": [
    "def lnprob(particles):\n",
    "    grad_log_term = torch.zeros([particles.shape[0], particles.shape[1]], dtype=t_type, device=device)\n",
    "    \n",
    "    for idx in range(particles.shape[0]):\n",
    "        particle = torch.tensor(particles[idx], dtype=t_type, requires_grad=True, device=device)\n",
    "        log_term = torch.log(dm_ex.target_density(particle))\n",
    "        grad_log_term[idx] = torch.autograd.grad(log_term, particle,\n",
    "                                                         only_inputs=True, retain_graph=False, \n",
    "                                                         create_graph=False, allow_unused=False)[0]\n",
    "                \n",
    "    return grad_log_term"
   ]
  },
  {
   "cell_type": "code",
   "execution_count": 35,
   "metadata": {},
   "outputs": [],
   "source": [
    "result = dm_ex.particles.clone().detach()"
   ]
  },
  {
   "cell_type": "code",
   "execution_count": 36,
   "metadata": {},
   "outputs": [
    {
     "name": "stdout",
     "output_type": "stream",
     "text": [
      "tensor(69.1647, dtype=torch.float64)\n",
      "tensor(0.0001, dtype=torch.float64)\n",
      "tensor(0.0001, dtype=torch.float64)\n"
     ]
    }
   ],
   "source": [
    "## Compare kernel implementation\n",
    "\n",
    "ker, grad_ker = dm_ex.calc_kernel_term(0)\n",
    "print(dm_ex.h)\n",
    "grad_ker_sum = torch.sum(grad_ker, dim=0)\n",
    "\n",
    "ker_l, grad_ker_sum_l = dm_svgd.svgd_kernel(result, h=-1)\n",
    "\n",
    "print((ker - torch.tensor(ker_l)).norm())\n",
    "print((grad_ker_sum - torch.tensor(grad_ker_sum_l)).norm())"
   ]
  },
  {
   "cell_type": "code",
   "execution_count": 37,
   "metadata": {},
   "outputs": [
    {
     "data": {
      "text/plain": [
       "tensor(nan, dtype=torch.float64)"
      ]
     },
     "execution_count": 37,
     "metadata": {},
     "output_type": "execute_result"
    }
   ],
   "source": [
    "## Compare log_term implementation\n",
    "\n",
    "(lnprob(result) - dm_ex.calc_log_term()).norm()"
   ]
  },
  {
   "cell_type": "code",
   "execution_count": 38,
   "metadata": {},
   "outputs": [
    {
     "name": "stdout",
     "output_type": "stream",
     "text": [
      "0\n"
     ]
    }
   ],
   "source": [
    "for _ in range(1):\n",
    "    print(_)\n",
    "    result = dm_svgd.update(result, lnprob, stepsize=1e-2, bandwidth=-1, n_iter=1000)\n",
    "    result = torch.tensor(result, dtype=t_type)"
   ]
  },
  {
   "cell_type": "code",
   "execution_count": 39,
   "metadata": {},
   "outputs": [
    {
     "name": "stdout",
     "output_type": "stream",
     "text": [
      "0\n",
      "15\n",
      "30\n",
      "45\n",
      "60\n",
      "75\n",
      "90\n",
      "105\n",
      "120\n",
      "135\n",
      "150\n",
      "165\n",
      "180\n",
      "195\n",
      "210\n",
      "225\n",
      "240\n",
      "255\n",
      "270\n",
      "285\n",
      "300\n",
      "315\n",
      "330\n",
      "345\n",
      "360\n",
      "375\n",
      "390\n",
      "405\n",
      "420\n",
      "435\n",
      "450\n",
      "465\n",
      "480\n",
      "495\n",
      "510\n",
      "525\n",
      "540\n",
      "555\n",
      "570\n",
      "585\n",
      "600\n",
      "615\n",
      "630\n",
      "645\n",
      "660\n",
      "675\n",
      "690\n",
      "705\n",
      "720\n",
      "735\n",
      "750\n",
      "765\n",
      "780\n",
      "795\n",
      "810\n",
      "825\n",
      "840\n",
      "855\n",
      "870\n",
      "885\n",
      "900\n",
      "915\n",
      "930\n",
      "945\n",
      "960\n",
      "975\n",
      "990\n"
     ]
    }
   ],
   "source": [
    "for _ in range(1000):\n",
    "    dm_ex.update(h_type=0)\n",
    "    if _ % 15 == 0:\n",
    "        print(_)"
   ]
  },
  {
   "cell_type": "code",
   "execution_count": 40,
   "metadata": {},
   "outputs": [
    {
     "data": {
      "text/plain": [
       "tensor(nan, dtype=torch.float64)"
      ]
     },
     "execution_count": 40,
     "metadata": {},
     "output_type": "execute_result"
    }
   ],
   "source": [
    "(result - dm_ex.particles).norm()"
   ]
  },
  {
   "cell_type": "code",
   "execution_count": 41,
   "metadata": {},
   "outputs": [
    {
     "ename": "ValueError",
     "evalue": "array must not contain infs or NaNs",
     "output_type": "error",
     "traceback": [
      "\u001b[0;31m---------------------------------------------------------------------------\u001b[0m",
      "\u001b[0;31mValueError\u001b[0m                                Traceback (most recent call last)",
      "\u001b[0;32m<ipython-input-41-885cdcc56a00>\u001b[0m in \u001b[0;36m<module>\u001b[0;34m()\u001b[0m\n\u001b[1;32m      2\u001b[0m \u001b[0mplt\u001b[0m\u001b[0;34m.\u001b[0m\u001b[0mplot\u001b[0m\u001b[0;34m(\u001b[0m\u001b[0mresult\u001b[0m\u001b[0;34m.\u001b[0m\u001b[0mdata\u001b[0m\u001b[0;34m.\u001b[0m\u001b[0mcpu\u001b[0m\u001b[0;34m(\u001b[0m\u001b[0;34m)\u001b[0m\u001b[0;34m.\u001b[0m\u001b[0mnumpy\u001b[0m\u001b[0;34m(\u001b[0m\u001b[0;34m)\u001b[0m\u001b[0;34m,\u001b[0m \u001b[0mtorch\u001b[0m\u001b[0;34m.\u001b[0m\u001b[0mzeros_like\u001b[0m\u001b[0;34m(\u001b[0m\u001b[0mresult\u001b[0m\u001b[0;34m)\u001b[0m\u001b[0;34m.\u001b[0m\u001b[0mdata\u001b[0m\u001b[0;34m.\u001b[0m\u001b[0mcpu\u001b[0m\u001b[0;34m(\u001b[0m\u001b[0;34m)\u001b[0m\u001b[0;34m.\u001b[0m\u001b[0mnumpy\u001b[0m\u001b[0;34m(\u001b[0m\u001b[0;34m)\u001b[0m\u001b[0;34m,\u001b[0m \u001b[0;34m'ro'\u001b[0m\u001b[0;34m)\u001b[0m\u001b[0;34m\u001b[0m\u001b[0m\n\u001b[1;32m      3\u001b[0m sns.kdeplot(result.data.cpu().numpy()[:,0], \n\u001b[0;32m----> 4\u001b[0;31m             kernel='tri', color='darkblue', linewidth=4)\n\u001b[0m",
      "\u001b[0;32m~/MyStuff/nakhodnov/local_venv/lib/python3.5/site-packages/seaborn/distributions.py\u001b[0m in \u001b[0;36mkdeplot\u001b[0;34m(data, data2, shade, vertical, kernel, bw, gridsize, cut, clip, legend, cumulative, shade_lowest, cbar, cbar_ax, cbar_kws, ax, **kwargs)\u001b[0m\n\u001b[1;32m    689\u001b[0m         ax = _univariate_kdeplot(data, shade, vertical, kernel, bw,\n\u001b[1;32m    690\u001b[0m                                  \u001b[0mgridsize\u001b[0m\u001b[0;34m,\u001b[0m \u001b[0mcut\u001b[0m\u001b[0;34m,\u001b[0m \u001b[0mclip\u001b[0m\u001b[0;34m,\u001b[0m \u001b[0mlegend\u001b[0m\u001b[0;34m,\u001b[0m \u001b[0max\u001b[0m\u001b[0;34m,\u001b[0m\u001b[0;34m\u001b[0m\u001b[0m\n\u001b[0;32m--> 691\u001b[0;31m                                  cumulative=cumulative, **kwargs)\n\u001b[0m\u001b[1;32m    692\u001b[0m \u001b[0;34m\u001b[0m\u001b[0m\n\u001b[1;32m    693\u001b[0m     \u001b[0;32mreturn\u001b[0m \u001b[0max\u001b[0m\u001b[0;34m\u001b[0m\u001b[0m\n",
      "\u001b[0;32m~/MyStuff/nakhodnov/local_venv/lib/python3.5/site-packages/seaborn/distributions.py\u001b[0m in \u001b[0;36m_univariate_kdeplot\u001b[0;34m(data, shade, vertical, kernel, bw, gridsize, cut, clip, legend, ax, cumulative, **kwargs)\u001b[0m\n\u001b[1;32m    292\u001b[0m                               \u001b[0;34m\"only implemented in statsmodels.\"\u001b[0m\u001b[0;34m\u001b[0m\u001b[0m\n\u001b[1;32m    293\u001b[0m                               \"Please install statsmodels.\")\n\u001b[0;32m--> 294\u001b[0;31m         \u001b[0mx\u001b[0m\u001b[0;34m,\u001b[0m \u001b[0my\u001b[0m \u001b[0;34m=\u001b[0m \u001b[0m_scipy_univariate_kde\u001b[0m\u001b[0;34m(\u001b[0m\u001b[0mdata\u001b[0m\u001b[0;34m,\u001b[0m \u001b[0mbw\u001b[0m\u001b[0;34m,\u001b[0m \u001b[0mgridsize\u001b[0m\u001b[0;34m,\u001b[0m \u001b[0mcut\u001b[0m\u001b[0;34m,\u001b[0m \u001b[0mclip\u001b[0m\u001b[0;34m)\u001b[0m\u001b[0;34m\u001b[0m\u001b[0m\n\u001b[0m\u001b[1;32m    295\u001b[0m \u001b[0;34m\u001b[0m\u001b[0m\n\u001b[1;32m    296\u001b[0m     \u001b[0;31m# Make sure the density is nonnegative\u001b[0m\u001b[0;34m\u001b[0m\u001b[0;34m\u001b[0m\u001b[0m\n",
      "\u001b[0;32m~/MyStuff/nakhodnov/local_venv/lib/python3.5/site-packages/seaborn/distributions.py\u001b[0m in \u001b[0;36m_scipy_univariate_kde\u001b[0;34m(data, bw, gridsize, cut, clip)\u001b[0m\n\u001b[1;32m    364\u001b[0m     \u001b[0;34m\"\"\"Compute a univariate kernel density estimate using scipy.\"\"\"\u001b[0m\u001b[0;34m\u001b[0m\u001b[0m\n\u001b[1;32m    365\u001b[0m     \u001b[0;32mtry\u001b[0m\u001b[0;34m:\u001b[0m\u001b[0;34m\u001b[0m\u001b[0m\n\u001b[0;32m--> 366\u001b[0;31m         \u001b[0mkde\u001b[0m \u001b[0;34m=\u001b[0m \u001b[0mstats\u001b[0m\u001b[0;34m.\u001b[0m\u001b[0mgaussian_kde\u001b[0m\u001b[0;34m(\u001b[0m\u001b[0mdata\u001b[0m\u001b[0;34m,\u001b[0m \u001b[0mbw_method\u001b[0m\u001b[0;34m=\u001b[0m\u001b[0mbw\u001b[0m\u001b[0;34m)\u001b[0m\u001b[0;34m\u001b[0m\u001b[0m\n\u001b[0m\u001b[1;32m    367\u001b[0m     \u001b[0;32mexcept\u001b[0m \u001b[0mTypeError\u001b[0m\u001b[0;34m:\u001b[0m\u001b[0;34m\u001b[0m\u001b[0m\n\u001b[1;32m    368\u001b[0m         \u001b[0mkde\u001b[0m \u001b[0;34m=\u001b[0m \u001b[0mstats\u001b[0m\u001b[0;34m.\u001b[0m\u001b[0mgaussian_kde\u001b[0m\u001b[0;34m(\u001b[0m\u001b[0mdata\u001b[0m\u001b[0;34m)\u001b[0m\u001b[0;34m\u001b[0m\u001b[0m\n",
      "\u001b[0;32m~/MyStuff/nakhodnov/local_venv/lib/python3.5/site-packages/scipy/stats/kde.py\u001b[0m in \u001b[0;36m__init__\u001b[0;34m(self, dataset, bw_method)\u001b[0m\n\u001b[1;32m    170\u001b[0m \u001b[0;34m\u001b[0m\u001b[0m\n\u001b[1;32m    171\u001b[0m         \u001b[0mself\u001b[0m\u001b[0;34m.\u001b[0m\u001b[0md\u001b[0m\u001b[0;34m,\u001b[0m \u001b[0mself\u001b[0m\u001b[0;34m.\u001b[0m\u001b[0mn\u001b[0m \u001b[0;34m=\u001b[0m \u001b[0mself\u001b[0m\u001b[0;34m.\u001b[0m\u001b[0mdataset\u001b[0m\u001b[0;34m.\u001b[0m\u001b[0mshape\u001b[0m\u001b[0;34m\u001b[0m\u001b[0m\n\u001b[0;32m--> 172\u001b[0;31m         \u001b[0mself\u001b[0m\u001b[0;34m.\u001b[0m\u001b[0mset_bandwidth\u001b[0m\u001b[0;34m(\u001b[0m\u001b[0mbw_method\u001b[0m\u001b[0;34m=\u001b[0m\u001b[0mbw_method\u001b[0m\u001b[0;34m)\u001b[0m\u001b[0;34m\u001b[0m\u001b[0m\n\u001b[0m\u001b[1;32m    173\u001b[0m \u001b[0;34m\u001b[0m\u001b[0m\n\u001b[1;32m    174\u001b[0m     \u001b[0;32mdef\u001b[0m \u001b[0mevaluate\u001b[0m\u001b[0;34m(\u001b[0m\u001b[0mself\u001b[0m\u001b[0;34m,\u001b[0m \u001b[0mpoints\u001b[0m\u001b[0;34m)\u001b[0m\u001b[0;34m:\u001b[0m\u001b[0;34m\u001b[0m\u001b[0m\n",
      "\u001b[0;32m~/MyStuff/nakhodnov/local_venv/lib/python3.5/site-packages/scipy/stats/kde.py\u001b[0m in \u001b[0;36mset_bandwidth\u001b[0;34m(self, bw_method)\u001b[0m\n\u001b[1;32m    497\u001b[0m             \u001b[0;32mraise\u001b[0m \u001b[0mValueError\u001b[0m\u001b[0;34m(\u001b[0m\u001b[0mmsg\u001b[0m\u001b[0;34m)\u001b[0m\u001b[0;34m\u001b[0m\u001b[0m\n\u001b[1;32m    498\u001b[0m \u001b[0;34m\u001b[0m\u001b[0m\n\u001b[0;32m--> 499\u001b[0;31m         \u001b[0mself\u001b[0m\u001b[0;34m.\u001b[0m\u001b[0m_compute_covariance\u001b[0m\u001b[0;34m(\u001b[0m\u001b[0;34m)\u001b[0m\u001b[0;34m\u001b[0m\u001b[0m\n\u001b[0m\u001b[1;32m    500\u001b[0m \u001b[0;34m\u001b[0m\u001b[0m\n\u001b[1;32m    501\u001b[0m     \u001b[0;32mdef\u001b[0m \u001b[0m_compute_covariance\u001b[0m\u001b[0;34m(\u001b[0m\u001b[0mself\u001b[0m\u001b[0;34m)\u001b[0m\u001b[0;34m:\u001b[0m\u001b[0;34m\u001b[0m\u001b[0m\n",
      "\u001b[0;32m~/MyStuff/nakhodnov/local_venv/lib/python3.5/site-packages/scipy/stats/kde.py\u001b[0m in \u001b[0;36m_compute_covariance\u001b[0;34m(self)\u001b[0m\n\u001b[1;32m    508\u001b[0m             self._data_covariance = atleast_2d(np.cov(self.dataset, rowvar=1,\n\u001b[1;32m    509\u001b[0m                                                bias=False))\n\u001b[0;32m--> 510\u001b[0;31m             \u001b[0mself\u001b[0m\u001b[0;34m.\u001b[0m\u001b[0m_data_inv_cov\u001b[0m \u001b[0;34m=\u001b[0m \u001b[0mlinalg\u001b[0m\u001b[0;34m.\u001b[0m\u001b[0minv\u001b[0m\u001b[0;34m(\u001b[0m\u001b[0mself\u001b[0m\u001b[0;34m.\u001b[0m\u001b[0m_data_covariance\u001b[0m\u001b[0;34m)\u001b[0m\u001b[0;34m\u001b[0m\u001b[0m\n\u001b[0m\u001b[1;32m    511\u001b[0m \u001b[0;34m\u001b[0m\u001b[0m\n\u001b[1;32m    512\u001b[0m         \u001b[0mself\u001b[0m\u001b[0;34m.\u001b[0m\u001b[0mcovariance\u001b[0m \u001b[0;34m=\u001b[0m \u001b[0mself\u001b[0m\u001b[0;34m.\u001b[0m\u001b[0m_data_covariance\u001b[0m \u001b[0;34m*\u001b[0m \u001b[0mself\u001b[0m\u001b[0;34m.\u001b[0m\u001b[0mfactor\u001b[0m\u001b[0;34m**\u001b[0m\u001b[0;36m2\u001b[0m\u001b[0;34m\u001b[0m\u001b[0m\n",
      "\u001b[0;32m~/MyStuff/nakhodnov/local_venv/lib/python3.5/site-packages/scipy/linalg/basic.py\u001b[0m in \u001b[0;36minv\u001b[0;34m(a, overwrite_a, check_finite)\u001b[0m\n\u001b[1;32m    944\u001b[0m \u001b[0;34m\u001b[0m\u001b[0m\n\u001b[1;32m    945\u001b[0m     \"\"\"\n\u001b[0;32m--> 946\u001b[0;31m     \u001b[0ma1\u001b[0m \u001b[0;34m=\u001b[0m \u001b[0m_asarray_validated\u001b[0m\u001b[0;34m(\u001b[0m\u001b[0ma\u001b[0m\u001b[0;34m,\u001b[0m \u001b[0mcheck_finite\u001b[0m\u001b[0;34m=\u001b[0m\u001b[0mcheck_finite\u001b[0m\u001b[0;34m)\u001b[0m\u001b[0;34m\u001b[0m\u001b[0m\n\u001b[0m\u001b[1;32m    947\u001b[0m     \u001b[0;32mif\u001b[0m \u001b[0mlen\u001b[0m\u001b[0;34m(\u001b[0m\u001b[0ma1\u001b[0m\u001b[0;34m.\u001b[0m\u001b[0mshape\u001b[0m\u001b[0;34m)\u001b[0m \u001b[0;34m!=\u001b[0m \u001b[0;36m2\u001b[0m \u001b[0;32mor\u001b[0m \u001b[0ma1\u001b[0m\u001b[0;34m.\u001b[0m\u001b[0mshape\u001b[0m\u001b[0;34m[\u001b[0m\u001b[0;36m0\u001b[0m\u001b[0;34m]\u001b[0m \u001b[0;34m!=\u001b[0m \u001b[0ma1\u001b[0m\u001b[0;34m.\u001b[0m\u001b[0mshape\u001b[0m\u001b[0;34m[\u001b[0m\u001b[0;36m1\u001b[0m\u001b[0;34m]\u001b[0m\u001b[0;34m:\u001b[0m\u001b[0;34m\u001b[0m\u001b[0m\n\u001b[1;32m    948\u001b[0m         \u001b[0;32mraise\u001b[0m \u001b[0mValueError\u001b[0m\u001b[0;34m(\u001b[0m\u001b[0;34m'expected square matrix'\u001b[0m\u001b[0;34m)\u001b[0m\u001b[0;34m\u001b[0m\u001b[0m\n",
      "\u001b[0;32m~/MyStuff/nakhodnov/local_venv/lib/python3.5/site-packages/scipy/_lib/_util.py\u001b[0m in \u001b[0;36m_asarray_validated\u001b[0;34m(a, check_finite, sparse_ok, objects_ok, mask_ok, as_inexact)\u001b[0m\n\u001b[1;32m    236\u001b[0m             \u001b[0;32mraise\u001b[0m \u001b[0mValueError\u001b[0m\u001b[0;34m(\u001b[0m\u001b[0;34m'masked arrays are not supported'\u001b[0m\u001b[0;34m)\u001b[0m\u001b[0;34m\u001b[0m\u001b[0m\n\u001b[1;32m    237\u001b[0m     \u001b[0mtoarray\u001b[0m \u001b[0;34m=\u001b[0m \u001b[0mnp\u001b[0m\u001b[0;34m.\u001b[0m\u001b[0masarray_chkfinite\u001b[0m \u001b[0;32mif\u001b[0m \u001b[0mcheck_finite\u001b[0m \u001b[0;32melse\u001b[0m \u001b[0mnp\u001b[0m\u001b[0;34m.\u001b[0m\u001b[0masarray\u001b[0m\u001b[0;34m\u001b[0m\u001b[0m\n\u001b[0;32m--> 238\u001b[0;31m     \u001b[0ma\u001b[0m \u001b[0;34m=\u001b[0m \u001b[0mtoarray\u001b[0m\u001b[0;34m(\u001b[0m\u001b[0ma\u001b[0m\u001b[0;34m)\u001b[0m\u001b[0;34m\u001b[0m\u001b[0m\n\u001b[0m\u001b[1;32m    239\u001b[0m     \u001b[0;32mif\u001b[0m \u001b[0;32mnot\u001b[0m \u001b[0mobjects_ok\u001b[0m\u001b[0;34m:\u001b[0m\u001b[0;34m\u001b[0m\u001b[0m\n\u001b[1;32m    240\u001b[0m         \u001b[0;32mif\u001b[0m \u001b[0ma\u001b[0m\u001b[0;34m.\u001b[0m\u001b[0mdtype\u001b[0m \u001b[0;32mis\u001b[0m \u001b[0mnp\u001b[0m\u001b[0;34m.\u001b[0m\u001b[0mdtype\u001b[0m\u001b[0;34m(\u001b[0m\u001b[0;34m'O'\u001b[0m\u001b[0;34m)\u001b[0m\u001b[0;34m:\u001b[0m\u001b[0;34m\u001b[0m\u001b[0m\n",
      "\u001b[0;32m~/MyStuff/nakhodnov/local_venv/lib/python3.5/site-packages/numpy/lib/function_base.py\u001b[0m in \u001b[0;36masarray_chkfinite\u001b[0;34m(a, dtype, order)\u001b[0m\n\u001b[1;32m    459\u001b[0m     \u001b[0;32mif\u001b[0m \u001b[0ma\u001b[0m\u001b[0;34m.\u001b[0m\u001b[0mdtype\u001b[0m\u001b[0;34m.\u001b[0m\u001b[0mchar\u001b[0m \u001b[0;32min\u001b[0m \u001b[0mtypecodes\u001b[0m\u001b[0;34m[\u001b[0m\u001b[0;34m'AllFloat'\u001b[0m\u001b[0;34m]\u001b[0m \u001b[0;32mand\u001b[0m \u001b[0;32mnot\u001b[0m \u001b[0mnp\u001b[0m\u001b[0;34m.\u001b[0m\u001b[0misfinite\u001b[0m\u001b[0;34m(\u001b[0m\u001b[0ma\u001b[0m\u001b[0;34m)\u001b[0m\u001b[0;34m.\u001b[0m\u001b[0mall\u001b[0m\u001b[0;34m(\u001b[0m\u001b[0;34m)\u001b[0m\u001b[0;34m:\u001b[0m\u001b[0;34m\u001b[0m\u001b[0m\n\u001b[1;32m    460\u001b[0m         raise ValueError(\n\u001b[0;32m--> 461\u001b[0;31m             \"array must not contain infs or NaNs\")\n\u001b[0m\u001b[1;32m    462\u001b[0m     \u001b[0;32mreturn\u001b[0m \u001b[0ma\u001b[0m\u001b[0;34m\u001b[0m\u001b[0m\n\u001b[1;32m    463\u001b[0m \u001b[0;34m\u001b[0m\u001b[0m\n",
      "\u001b[0;31mValueError\u001b[0m: array must not contain infs or NaNs"
     ]
    },
    {
     "data": {
      "image/png": "[encoded data removed]",
      "text/plain": [
       "<Figure size 432x288 with 1 Axes>"
      ]
     },
     "metadata": {},
     "output_type": "display_data"
    }
   ],
   "source": [
    "plt.plot(np.linspace(-10, 10, 1000, dtype=np.float64), pdf)\n",
    "plt.plot(result.data.cpu().numpy(), torch.zeros_like(result).data.cpu().numpy(), 'ro')\n",
    "sns.kdeplot(result.data.cpu().numpy()[:,0], \n",
    "            kernel='tri', color='darkblue', linewidth=4)"
   ]
  },
  {
   "cell_type": "code",
   "execution_count": null,
   "metadata": {},
   "outputs": [],
   "source": [
    "plt.plot(np.linspace(-10, 10, 1000, dtype=np.float64), pdf)\n",
    "plt.plot(dm_ex.particles.data.cpu().numpy(), torch.zeros_like(dm_ex.particles).data.cpu().numpy(), 'ro')\n",
    "sns.kdeplot(dm_ex.particles.data.cpu().numpy()[:,0], \n",
    "            kernel='tri', color='darkblue', linewidth=4)"
   ]
  },
  {
   "cell_type": "code",
   "execution_count": null,
   "metadata": {},
   "outputs": [],
   "source": []
  }
 ],
 "metadata": {
  "kernelspec": {
   "display_name": "Python 3",
   "language": "python",
   "name": "python3"
  },
  "language_info": {
   "codemirror_mode": {
    "name": "ipython",
    "version": 3
   },
   "file_extension": ".py",
   "mimetype": "text/x-python",
   "name": "python",
   "nbconvert_exporter": "python",
   "pygments_lexer": "ipython3",
   "version": "3.5.2"
  }
 },
 "nbformat": 4,
 "nbformat_minor": 2
}
